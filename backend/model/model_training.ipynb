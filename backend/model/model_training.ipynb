{
 "cells": [
  {
   "cell_type": "markdown",
   "id": "5b271d47",
   "metadata": {},
   "source": [
    "# Import dataset"
   ]
  },
  {
   "cell_type": "code",
   "execution_count": 1,
   "id": "5e5e15e8",
   "metadata": {},
   "outputs": [
    {
     "name": "stderr",
     "output_type": "stream",
     "text": [
      "2025-08-14 08:03:05.019024: I tensorflow/core/platform/cpu_feature_guard.cc:210] This TensorFlow binary is optimized to use available CPU instructions in performance-critical operations.\n",
      "To enable the following instructions: AVX2 FMA, in other operations, rebuild TensorFlow with the appropriate compiler flags.\n",
      "/home/fajar/Documents/code_project/tugasAkhir/deepfake_app/venv/lib/python3.12/site-packages/tqdm/auto.py:21: TqdmWarning: IProgress not found. Please update jupyter and ipywidgets. See https://ipywidgets.readthedocs.io/en/stable/user_install.html\n",
      "  from .autonotebook import tqdm as notebook_tqdm\n"
     ]
    }
   ],
   "source": [
    "import tensorflow as tf\n",
    "from datasets import load_dataset, load_from_disk"
   ]
  },
  {
   "cell_type": "markdown",
   "id": "e0a330fc",
   "metadata": {},
   "source": [
    "# Data Preparation"
   ]
  },
  {
   "cell_type": "code",
   "execution_count": 2,
   "id": "44503e25",
   "metadata": {},
   "outputs": [
    {
     "name": "stdout",
     "output_type": "stream",
     "text": [
      "\n",
      "train dataset: Dataset({\n",
      "    features: ['png', '__key__', '__url__'],\n",
      "    num_rows: 8115\n",
      "})\n",
      "\n",
      "test dataset: Dataset({\n",
      "    features: ['png', '__key__', '__url__'],\n",
      "    num_rows: 8283\n",
      "})\n"
     ]
    }
   ],
   "source": [
    "dataset_path = 'dataset'\n",
    "\n",
    "dataset = load_from_disk(dataset_path)\n",
    "data_train = dataset['train']\n",
    "data_test = dataset['test']\n",
    "\n",
    "# print(f'dataset : {dataset}')\n",
    "print(f'\\ntrain dataset: {data_train}')\n",
    "print(f'\\ntest dataset: {data_test}')"
   ]
  },
  {
   "cell_type": "markdown",
   "id": "61bf4ade",
   "metadata": {},
   "source": [
    "## Add label at each image"
   ]
  },
  {
   "cell_type": "code",
   "execution_count": null,
   "id": "8ce9522a",
   "metadata": {},
   "outputs": [],
   "source": [
    "def add_label(example: Dataset):\n",
    "    if 'real' in example['__key__']:\n",
    "        example['label'] = 0\n",
    "    elif 'fake' in example['__key__']:\n",
    "        example['label'] = 1\n",
    "    return example\n",
    "\n",
    "data_train = data_train.map(add_label)\n",
    "data_test = data_test.map(add_label)"
   ]
  },
  {
   "cell_type": "markdown",
   "id": "9c4d7fb5",
   "metadata": {},
   "source": [
    "## Take 1 from 10 frame at each video"
   ]
  },
  {
   "cell_type": "code",
   "execution_count": null,
   "id": "5728fc4d",
   "metadata": {},
   "outputs": [],
   "source": [
    "from collections import defaultdict\n",
    "\n",
    "grouped_video = defaultdict(list)\n",
    "\n",
    "def sorting_frames(example: Dataset):\n",
    "    try:\n",
    "        key = example['__key__']\n",
    "        parts = key.split('/')\n",
    "        video_id = parts[-2]\n",
    "        grouped_video[video_id].append(example)\n",
    "    except IndexError:\n",
    "        print(f\"Error processing key: {example['__key__']}\")\n",
    "\n",
    "\n",
    "def filter_frames(example):\n",
    "    key = example['__key__']\n"
   ]
  },
  {
   "cell_type": "code",
   "execution_count": 36,
   "id": "c2d1f9f3",
   "metadata": {},
   "outputs": [
    {
     "data": {
      "text/plain": [
       "'./573/real/3/359'"
      ]
     },
     "execution_count": 36,
     "metadata": {},
     "output_type": "execute_result"
    }
   ],
   "source": [
    "data_train['__key__'][8000]"
   ]
  }
 ],
 "metadata": {
  "kernelspec": {
   "display_name": "venv",
   "language": "python",
   "name": "python3"
  },
  "language_info": {
   "codemirror_mode": {
    "name": "ipython",
    "version": 3
   },
   "file_extension": ".py",
   "mimetype": "text/x-python",
   "name": "python",
   "nbconvert_exporter": "python",
   "pygments_lexer": "ipython3",
   "version": "3.12.3"
  }
 },
 "nbformat": 4,
 "nbformat_minor": 5
}
