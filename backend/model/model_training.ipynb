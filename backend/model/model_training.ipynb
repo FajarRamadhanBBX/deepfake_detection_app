{
 "cells": [
  {
   "cell_type": "markdown",
   "id": "5b271d47",
   "metadata": {},
   "source": [
    "# Import dataset"
   ]
  },
  {
   "cell_type": "code",
   "execution_count": null,
   "id": "5e5e15e8",
   "metadata": {},
   "outputs": [
    {
     "name": "stderr",
     "output_type": "stream",
     "text": [
      "2025-08-14 08:03:05.019024: I tensorflow/core/platform/cpu_feature_guard.cc:210] This TensorFlow binary is optimized to use available CPU instructions in performance-critical operations.\n",
      "To enable the following instructions: AVX2 FMA, in other operations, rebuild TensorFlow with the appropriate compiler flags.\n",
      "/home/fajar/Documents/code_project/tugasAkhir/deepfake_app/venv/lib/python3.12/site-packages/tqdm/auto.py:21: TqdmWarning: IProgress not found. Please update jupyter and ipywidgets. See https://ipywidgets.readthedocs.io/en/stable/user_install.html\n",
      "  from .autonotebook import tqdm as notebook_tqdm\n"
     ]
    }
   ],
   "source": [
    "import logging\n",
    "import tensorflow as tf\n",
    "from datasets import load_dataset, load_from_disk"
   ]
  },
  {
   "cell_type": "code",
   "execution_count": null,
   "id": "8e40ced9",
   "metadata": {},
   "outputs": [],
   "source": [
    "logging.basicConfig(\n",
    "    filename='model_training.log',\n",
    "    level=logging.INFO,\n",
    "    format='%(asctime)s - %(levelname)s - %(message)s'\n",
    ")"
   ]
  },
  {
   "cell_type": "markdown",
   "id": "e0a330fc",
   "metadata": {},
   "source": [
    "# Data Preparation"
   ]
  },
  {
   "cell_type": "code",
   "execution_count": 10,
   "id": "44503e25",
   "metadata": {},
   "outputs": [
    {
     "name": "stdout",
     "output_type": "stream",
     "text": [
      "\n",
      "train dataset: Dataset({\n",
      "    features: ['png', '__key__', '__url__'],\n",
      "    num_rows: 8115\n",
      "})\n",
      "\n",
      "test dataset: Dataset({\n",
      "    features: ['png', '__key__', '__url__'],\n",
      "    num_rows: 8283\n",
      "})\n"
     ]
    }
   ],
   "source": [
    "dataset_path = 'dataset'\n",
    "\n",
    "dataset = load_from_disk(dataset_path)\n",
    "data_train = dataset['train']\n",
    "data_test = dataset['test']\n",
    "\n",
    "# print(f'dataset : {dataset}')\n",
    "print(f'\\ntrain dataset: {data_train}')\n",
    "print(f'\\ntest dataset: {data_test}')"
   ]
  },
  {
   "cell_type": "markdown",
   "id": "61bf4ade",
   "metadata": {},
   "source": [
    "## Add label at each image"
   ]
  },
  {
   "cell_type": "code",
   "execution_count": 11,
   "id": "8ce9522a",
   "metadata": {},
   "outputs": [
    {
     "name": "stderr",
     "output_type": "stream",
     "text": [
      "Map: 100%|██████████| 8115/8115 [00:02<00:00, 3844.34 examples/s]\n",
      "Map: 100%|██████████| 8283/8283 [00:02<00:00, 2764.95 examples/s]"
     ]
    },
    {
     "name": "stdout",
     "output_type": "stream",
     "text": [
      "\n",
      "train dataset after add label: Dataset({\n",
      "    features: ['png', '__key__', '__url__', 'label'],\n",
      "    num_rows: 8115\n",
      "})\n",
      "\n",
      "test dataset after add label: Dataset({\n",
      "    features: ['png', '__key__', '__url__', 'label'],\n",
      "    num_rows: 8283\n",
      "})\n"
     ]
    },
    {
     "name": "stderr",
     "output_type": "stream",
     "text": [
      "\n"
     ]
    }
   ],
   "source": [
    "def add_label(example: Dataset):\n",
    "    try:\n",
    "        if 'real' in example['__key__']:\n",
    "            example['label'] = 0\n",
    "        elif 'fake' in example['__key__']:\n",
    "            example['label'] = 1\n",
    "    except Exception as e:\n",
    "        logging.error(f\"Error add label for {example['__key__']}: {e}\")\n",
    "    return example\n",
    "\n",
    "data_train = data_train.map(add_label)\n",
    "data_test = data_test.map(add_label)\n",
    "\n",
    "print(f'\\ntrain dataset after add label: {data_train}')\n",
    "print(f'\\ntest dataset after add label: {data_test}')"
   ]
  },
  {
   "cell_type": "markdown",
   "id": "9c4d7fb5",
   "metadata": {},
   "source": [
    "## Take 1 from 10 frame at each video"
   ]
  },
  {
   "cell_type": "markdown",
   "id": "e5b828cb",
   "metadata": {},
   "source": [
    "The example of ['__key__'] column = './573/real/3/359'\n",
    "\n",
    "4th order refers to video id\n",
    "\n",
    "5th order refers to image id"
   ]
  },
  {
   "cell_type": "code",
   "execution_count": 17,
   "id": "af8457ff",
   "metadata": {},
   "outputs": [
    {
     "name": "stdout",
     "output_type": "stream",
     "text": [
      "Dataset({\n",
      "    features: ['png', '__key__', '__url__', 'label'],\n",
      "    num_rows: 8115\n",
      "})\n"
     ]
    }
   ],
   "source": [
    "print(data_train)"
   ]
  },
  {
   "cell_type": "code",
   "execution_count": null,
   "id": "5728fc4d",
   "metadata": {},
   "outputs": [
    {
     "name": "stdout",
     "output_type": "stream",
     "text": [
      "Dataset({\n",
      "    features: ['png', '__key__', '__url__', 'label'],\n",
      "    num_rows: 846\n",
      "})\n"
     ]
    }
   ],
   "source": [
    "import logging\n",
    "from collections import defaultdict\n",
    "from datasets import Dataset, DatasetDict\n",
    "from typing import Optional\n",
    "\n",
    "def sample_frames_per_video(\n",
    "        dataset: Dataset,\n",
    "        num_frames: int = 10,\n",
    "    ) -> Optional[Dataset]:\n",
    "    \n",
    "    grouped_data = defaultdict(list)\n",
    "\n",
    "    for example in dataset:\n",
    "        try:\n",
    "            video_id = example['__key__'].split('/')[-2]\n",
    "            grouped_data[video_id].append(example)\n",
    "        except (IndexError, KeyError) as e:\n",
    "            logging.error(f'Error for grouping example {example}: {e}')\n",
    "            continue\n",
    "\n",
    "    print(f'\\nGrouped data: {grouped_data[\"3\"]}\\n')\n",
    "\n",
    "    sampled_data_list = []\n",
    "    for video_id, frames in grouped_data.items():\n",
    "        if not frames:\n",
    "            logging.warning(f'No frames found for video_id {video_id}')\n",
    "            continue\n",
    "        try:\n",
    "            sorted_frames = sorted(frames, key=lambda x:x['__key__'].split('/')[-1])\n",
    "            for i in range(0, len(sorted_frames), num_frames):\n",
    "                sampled_data_list.append(sorted_frames[i])\n",
    "        except Exception as e:\n",
    "            logging.error(f'Error sampling frames for video_id {video_id}: {e}')\n",
    "            continue\n",
    "\n",
    "    print(f'\\nSampled data list: {sampled_data_list[0]}\\n')\n",
    "\n",
    "    keys = sampled_data_list[0].keys() # All examples have sam keys\n",
    "    print(f'\\nKeys in sampled data: {keys}\\n')\n",
    "    dict_dataset = {\n",
    "        key: [d[key] for d in sampled_data_list] \n",
    "        for key in keys\n",
    "    }\n",
    "    final_dataset = Dataset.from_dict(dict_dataset)\n",
    "    return final_dataset\n",
    "\n",
    "final_data_train = sample_frames_per_video(data_train, num_frames=10)\n",
    "print(final_data_train)"
   ]
  },
  {
   "cell_type": "code",
   "execution_count": null,
   "id": "0bd33f09",
   "metadata": {},
   "outputs": [],
   "source": []
  }
 ],
 "metadata": {
  "kernelspec": {
   "display_name": "venv",
   "language": "python",
   "name": "python3"
  },
  "language_info": {
   "codemirror_mode": {
    "name": "ipython",
    "version": 3
   },
   "file_extension": ".py",
   "mimetype": "text/x-python",
   "name": "python",
   "nbconvert_exporter": "python",
   "pygments_lexer": "ipython3",
   "version": "3.12.3"
  }
 },
 "nbformat": 4,
 "nbformat_minor": 5
}
